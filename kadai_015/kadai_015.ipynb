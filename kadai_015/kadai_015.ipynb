{
  "nbformat": 4,
  "nbformat_minor": 0,
  "metadata": {
    "colab": {
      "provenance": []
    },
    "kernelspec": {
      "name": "python3",
      "display_name": "Python 3"
    },
    "language_info": {
      "name": "python"
    }
  },
  "cells": [
    {
      "cell_type": "code",
      "execution_count": null,
      "metadata": {
        "colab": {
          "base_uri": "https://localhost:8080/"
        },
        "id": "4lm-fP2vSZfV",
        "outputId": "d4156f46-df4a-4f5a-aebc-7ef5d946276e"
      },
      "outputs": [
        {
          "output_type": "stream",
          "name": "stdout",
          "text": [
            "3\n"
          ]
        }
      ],
      "source": [
        "print(1+2)\n"
      ]
    },
    {
      "cell_type": "code",
      "source": [
        "age = 18 # 年齢\n",
        "\n",
        "if age < 20:\n",
        "    # 未成年の場合\n",
        "    print(\"ジュースで乾杯！\")\n",
        "else:\n",
        "    # 成年の場合\n",
        "    print(\"お酒で乾杯！\")"
      ],
      "metadata": {
        "colab": {
          "base_uri": "https://localhost:8080/",
          "height": 110
        },
        "id": "OG1oHqG7SlcR",
        "outputId": "9cc3a2ab-5cc9-47a9-d31a-12a99c0c0d8c"
      },
      "execution_count": null,
      "outputs": [
        {
          "output_type": "error",
          "ename": "SyntaxError",
          "evalue": "incomplete input (ipython-input-1436286198.py, line 4)",
          "traceback": [
            "\u001b[0;36m  File \u001b[0;32m\"/tmp/ipython-input-1436286198.py\"\u001b[0;36m, line \u001b[0;32m4\u001b[0m\n\u001b[0;31m    '''\u001b[0m\n\u001b[0m    ^\u001b[0m\n\u001b[0;31mSyntaxError\u001b[0m\u001b[0;31m:\u001b[0m incomplete input\n"
          ]
        }
      ]
    },
    {
      "cell_type": "code",
      "source": [
        "print('こんにちは')\n",
        "print(\"今日はいい天気ですね\")"
      ],
      "metadata": {
        "colab": {
          "base_uri": "https://localhost:8080/"
        },
        "id": "4mR6aDBTXBGv",
        "outputId": "0753cfe1-c17e-45c0-adb9-a2d683e3169d"
      },
      "execution_count": null,
      "outputs": [
        {
          "output_type": "stream",
          "name": "stdout",
          "text": [
            "こんにちは\n",
            "今日はいい天気ですね\n"
          ]
        }
      ]
    },
    {
      "cell_type": "code",
      "source": [
        "print(True)\n",
        "print(False)"
      ],
      "metadata": {
        "colab": {
          "base_uri": "https://localhost:8080/"
        },
        "id": "OWrx-hWzXl6b",
        "outputId": "2c556271-2e83-4a14-ce12-d4fd4c04ade6"
      },
      "execution_count": null,
      "outputs": [
        {
          "output_type": "stream",
          "name": "stdout",
          "text": [
            "True\n",
            "False\n"
          ]
        }
      ]
    },
    {
      "cell_type": "code",
      "source": [
        "print(45 + 18)\n",
        "print(30 - 12)\n",
        "print(15 * 6)\n",
        "print(30 / 3)\n",
        "print(45 % 8)\n",
        "print(type(30 / 3))"
      ],
      "metadata": {
        "colab": {
          "base_uri": "https://localhost:8080/"
        },
        "id": "OAMiFi1XXsYD",
        "outputId": "c6f3c088-baba-4f07-da9f-e5298ed17ec7"
      },
      "execution_count": null,
      "outputs": [
        {
          "output_type": "stream",
          "name": "stdout",
          "text": [
            "63\n",
            "18\n",
            "90\n",
            "10.0\n",
            "5\n",
            "<class 'float'>\n"
          ]
        }
      ]
    },
    {
      "cell_type": "code",
      "source": [
        "print(45 + 1.8)\n",
        "print(3 - 1.2)\n",
        "print(15 * 0.6)\n",
        "print(3 / 0.3)\n",
        "print(45 % 0.8)"
      ],
      "metadata": {
        "colab": {
          "base_uri": "https://localhost:8080/"
        },
        "id": "Zm7CJPN8Y52a",
        "outputId": "81bc2304-94b7-4afb-d352-e8c3a3a5cbbf"
      },
      "execution_count": null,
      "outputs": [
        {
          "output_type": "stream",
          "name": "stdout",
          "text": [
            "46.8\n",
            "1.8\n",
            "9.0\n",
            "10.0\n",
            "0.1999999999999975\n"
          ]
        }
      ]
    },
    {
      "cell_type": "code",
      "source": [
        "print(\"今日の天気は\" + \"晴れ\")\n",
        "print(\"今日の天気は\" \"曇り\")"
      ],
      "metadata": {
        "colab": {
          "base_uri": "https://localhost:8080/"
        },
        "id": "mxWHqO59ZCbU",
        "outputId": "bcf46f89-6b0b-46ca-b6cf-1feeb5633866"
      },
      "execution_count": null,
      "outputs": [
        {
          "output_type": "stream",
          "name": "stdout",
          "text": [
            "今日の天気は晴れ\n",
            "今日の天気は曇り\n"
          ]
        }
      ]
    },
    {
      "cell_type": "code",
      "source": [
        "print(\"降水確率\" + str(50) + \"％\" )"
      ],
      "metadata": {
        "colab": {
          "base_uri": "https://localhost:8080/"
        },
        "id": "gl6OZokMaeo8",
        "outputId": "2fdccf9d-2fca-4a74-ca47-e55792c71c4b"
      },
      "execution_count": null,
      "outputs": [
        {
          "output_type": "stream",
          "name": "stdout",
          "text": [
            "降水確率50％\n"
          ]
        }
      ]
    },
    {
      "cell_type": "code",
      "source": [
        "print(\"晴れ\" * 5)\n",
        "print(\"晴れ\" + \"晴れ\" + \"晴れ\" + \"晴れ\" + \"晴れ\")"
      ],
      "metadata": {
        "colab": {
          "base_uri": "https://localhost:8080/"
        },
        "id": "A_I0SZp1ajEp",
        "outputId": "e47ea262-1939-4143-be0f-aa8bbd9af3c1"
      },
      "execution_count": null,
      "outputs": [
        {
          "output_type": "stream",
          "name": "stdout",
          "text": [
            "晴れ晴れ晴れ晴れ晴れ\n",
            "晴れ晴れ晴れ晴れ晴れ\n"
          ]
        }
      ]
    },
    {
      "cell_type": "code",
      "source": [
        "user_name = \"侍太郎\"\n",
        "print(user_name)"
      ],
      "metadata": {
        "colab": {
          "base_uri": "https://localhost:8080/"
        },
        "id": "qw-FIn7aa_Au",
        "outputId": "89dfce68-22b8-4e9f-84d4-0d9325a01bf2"
      },
      "execution_count": null,
      "outputs": [
        {
          "output_type": "stream",
          "name": "stdout",
          "text": [
            "侍太郎\n"
          ]
        }
      ]
    },
    {
      "cell_type": "code",
      "source": [
        "user_name = \"侍太郎\"\n",
        "print(user_name)\n",
        "\n",
        "user_name = \"侍花子\"\n",
        "print(user_name)"
      ],
      "metadata": {
        "colab": {
          "base_uri": "https://localhost:8080/"
        },
        "id": "GKss6JgicyKn",
        "outputId": "6cb37747-0db7-4a7e-d029-fb60f34f77a2"
      },
      "execution_count": null,
      "outputs": [
        {
          "output_type": "stream",
          "name": "stdout",
          "text": [
            "侍太郎\n",
            "侍花子\n"
          ]
        }
      ]
    },
    {
      "cell_type": "code",
      "source": [
        "# 整数型と浮動小数点型の足し算\n",
        "number1 = 5\n",
        "number2 = 2.5\n",
        "print(number1 + number2)\n",
        "\n",
        "# 文字列型と文字列型の連結\n",
        "last_name  = \"侍\"\n",
        "first_name = \"太郎\"\n",
        "print(last_name + first_name)"
      ],
      "metadata": {
        "colab": {
          "base_uri": "https://localhost:8080/"
        },
        "id": "pUuKbH7ec2vV",
        "outputId": "274b8404-f9fa-49ce-f98f-bceae7b4dd60"
      },
      "execution_count": null,
      "outputs": [
        {
          "output_type": "stream",
          "name": "stdout",
          "text": [
            "7.5\n",
            "侍太郎\n"
          ]
        }
      ]
    },
    {
      "cell_type": "code",
      "source": [
        "last_name   = \"侍\"\n",
        "first_name  = \"太郎\"\n",
        "sister_name = \"花子\"\n",
        "\n",
        "# 3つの変数を文字列内に埋め込んで表示\n",
        "print(f\"私の名前は{last_name}{first_name}です。妹の名前は{sister_name}です。\")"
      ],
      "metadata": {
        "colab": {
          "base_uri": "https://localhost:8080/"
        },
        "id": "BOifnFvCgtln",
        "outputId": "3a573b26-a932-4db7-a8fa-e3ab75715e33"
      },
      "execution_count": null,
      "outputs": [
        {
          "output_type": "stream",
          "name": "stdout",
          "text": [
            "私の名前は侍太郎です。妹の名前は花子です。\n"
          ]
        }
      ]
    },
    {
      "cell_type": "code",
      "source": [
        "上辺：10cm\n",
        "下辺：20cm\n",
        "高さ：5cm\n",
        "\n",
        "公式：台形の面積 =（上辺＋下辺）× 高さ ÷ 2"
      ],
      "metadata": {
        "colab": {
          "base_uri": "https://localhost:8080/",
          "height": 110
        },
        "id": "h-0VSkYwh1iB",
        "outputId": "14c15da5-b359-4e19-bced-10026bd1c460"
      },
      "execution_count": null,
      "outputs": [
        {
          "output_type": "error",
          "ename": "SyntaxError",
          "evalue": "invalid character '：' (U+FF1A) (ipython-input-486463446.py, line 1)",
          "traceback": [
            "\u001b[0;36m  File \u001b[0;32m\"/tmp/ipython-input-486463446.py\"\u001b[0;36m, line \u001b[0;32m1\u001b[0m\n\u001b[0;31m    上辺：10cm\u001b[0m\n\u001b[0m      ^\u001b[0m\n\u001b[0;31mSyntaxError\u001b[0m\u001b[0;31m:\u001b[0m invalid character '：' (U+FF1A)\n"
          ]
        }
      ]
    },
    {
      "cell_type": "code",
      "source": [
        "# 台形の寸法\n",
        "upper_base = 10  # 上辺（cm）\n",
        "lower_base = 20  # 下辺（cm）\n",
        "height = 5       # 高さ（cm）\n",
        "\n",
        "# 台形の面積公式：（上辺 + 下辺） × 高さ ÷ 2\n",
        "area = (upper_base + lower_base) * height / 2\n",
        "\n",
        "print(f\"台形の面積は {area} cm² です。\")\n"
      ],
      "metadata": {
        "colab": {
          "base_uri": "https://localhost:8080/"
        },
        "id": "afxE-3s6iGmg",
        "outputId": "49aff0ed-48ed-49b8-ea05-ea607d2b3485"
      },
      "execution_count": null,
      "outputs": [
        {
          "output_type": "stream",
          "name": "stdout",
          "text": [
            "台形の面積は 75.0 cm² です。\n"
          ]
        }
      ]
    },
    {
      "cell_type": "code",
      "source": [],
      "metadata": {
        "id": "n2ndNup_t1z4"
      },
      "execution_count": null,
      "outputs": []
    },
    {
      "cell_type": "code",
      "source": [],
      "metadata": {
        "id": "NnuYsdL-t4EC"
      },
      "execution_count": null,
      "outputs": []
    },
    {
      "cell_type": "code",
      "source": [],
      "metadata": {
        "id": "KcLpzL5FMFGu"
      },
      "execution_count": null,
      "outputs": []
    },
    {
      "cell_type": "code",
      "source": [
        "pip install Django"
      ],
      "metadata": {
        "colab": {
          "base_uri": "https://localhost:8080/"
        },
        "id": "UujCKXjLMHDj",
        "outputId": "ce7987e6-57b1-4998-f23f-81cc997fcaf1"
      },
      "execution_count": null,
      "outputs": [
        {
          "output_type": "stream",
          "name": "stdout",
          "text": [
            "Collecting Django\n",
            "  Downloading django-5.2.5-py3-none-any.whl.metadata (4.1 kB)\n",
            "Collecting asgiref>=3.8.1 (from Django)\n",
            "  Downloading asgiref-3.9.1-py3-none-any.whl.metadata (9.3 kB)\n",
            "Requirement already satisfied: sqlparse>=0.3.1 in /usr/local/lib/python3.12/dist-packages (from Django) (0.5.3)\n",
            "Downloading django-5.2.5-py3-none-any.whl (8.3 MB)\n",
            "\u001b[2K   \u001b[90m━━━━━━━━━━━━━━━━━━━━━━━━━━━━━━━━━━━━━━━━\u001b[0m \u001b[32m8.3/8.3 MB\u001b[0m \u001b[31m48.5 MB/s\u001b[0m eta \u001b[36m0:00:00\u001b[0m\n",
            "\u001b[?25hDownloading asgiref-3.9.1-py3-none-any.whl (23 kB)\n",
            "Installing collected packages: asgiref, Django\n",
            "Successfully installed Django-5.2.5 asgiref-3.9.1\n"
          ]
        }
      ]
    },
    {
      "cell_type": "code",
      "source": [
        "user_names = [\"侍太郎\", \"侍一郎\", \"侍二郎\", \"侍三郎\", \"侍四郎\"]\n",
        "\n",
        "# 2番目の要素を更新する\n",
        "user_names[1] = \"侍花子\"\n",
        "\n",
        "# 2番目の要素を表示する\n",
        "print(user_names[1])"
      ],
      "metadata": {
        "colab": {
          "base_uri": "https://localhost:8080/"
        },
        "id": "MKNznZc8tzhd",
        "outputId": "034e0395-f516-4706-8457-78a6b84eaada"
      },
      "execution_count": null,
      "outputs": [
        {
          "output_type": "stream",
          "name": "stdout",
          "text": [
            "侍花子\n"
          ]
        }
      ]
    },
    {
      "cell_type": "code",
      "source": [
        "stationery_prices = {\"鉛筆\": 70, \"ボールペン\": 120, \"シャープペンシル\": 150, \"消しゴム\": 90}\n",
        "\n",
        "# ボールペンの価格を取り出して表示\n",
        "print(stationery_prices[\"ボールペン\"])"
      ],
      "metadata": {
        "colab": {
          "base_uri": "https://localhost:8080/"
        },
        "id": "2qFus3gVxmly",
        "outputId": "95ecff04-074c-438b-9794-eda47516c2eb"
      },
      "execution_count": null,
      "outputs": [
        {
          "output_type": "stream",
          "name": "stdout",
          "text": [
            "120\n"
          ]
        }
      ]
    },
    {
      "cell_type": "code",
      "source": [],
      "metadata": {
        "id": "Dv0ka2J3t6Pi"
      },
      "execution_count": null,
      "outputs": []
    },
    {
      "cell_type": "code",
      "source": [
        "sports = {1: \"サッカー\", 2: \"野球\", 3: \"バスケット\"}\n",
        "\n",
        "# キー「2」の値を「バドミントン」に書き換える\n",
        "sports[2] = \"バドミントン\"\n",
        "\n",
        "# キー「4」として「水泳」を追加する\n",
        "sports[4] = \"水泳\"\n",
        "\n",
        "# 連想配列全体を取り出して表示\n",
        "print(sports)"
      ],
      "metadata": {
        "colab": {
          "base_uri": "https://localhost:8080/"
        },
        "id": "Lzhsvx2DyPxt",
        "outputId": "f63f9469-bfdf-42a2-ea93-c26cb1181b39"
      },
      "execution_count": null,
      "outputs": [
        {
          "output_type": "stream",
          "name": "stdout",
          "text": [
            "{1: 'サッカー', 2: 'バドミントン', 3: 'バスケット', 4: '水泳'}\n"
          ]
        }
      ]
    },
    {
      "cell_type": "code",
      "source": [
        "# 連想配列を作成\n",
        "personal_data = {\"name\": \"侍太郎\", \"age\": 36, \"gender\": \"男性\"}\n",
        "\n",
        "# キー「name」の値を表示\n",
        "print(personal_data[\"name\"])\n",
        "\n",
        "# 連想配列全体を表示\n",
        "print(personal_data)\n",
        "\n",
        "# キー「age」の値を更新\n",
        "personal_data[\"age\"] = 37\n",
        "\n",
        "# 新しく要素（キーと値）を追加\n",
        "personal_data[\"address\"] = \"東京都\"\n",
        "\n",
        "# 連想配列全体を表示\n",
        "print(personal_data)"
      ],
      "metadata": {
        "colab": {
          "base_uri": "https://localhost:8080/"
        },
        "id": "6P6WjqNFy2dV",
        "outputId": "68a78b7f-cb85-4e2d-d65e-43d1cc3de261"
      },
      "execution_count": null,
      "outputs": [
        {
          "output_type": "stream",
          "name": "stdout",
          "text": [
            "侍太郎\n",
            "{'name': '侍太郎', 'age': 36, 'gender': '男性'}\n",
            "{'name': '侍太郎', 'age': 37, 'gender': '男性', 'address': '東京都'}\n"
          ]
        }
      ]
    },
    {
      "cell_type": "code",
      "source": [
        "array = {0:\"月曜日は晴れです\"，1:\"火曜日は雨です\"，2:\"水曜日は晴れです\"，3:\"木曜日は晴れです\"，4：\"金曜日は曇りです\"，5:\"土曜日は曇りのち雨です\"，6:“日曜日は雷雨です\"}\n",
        "\n",
        "stationery_weather=｛\"mom\": 晴れ, \"tue\": 雨, \"wed\": 晴れ, \"thu\"晴れ，\"fri\": 曇り, \"sat\": 曇りのち雨, \"sun\": 雷雨｝"
      ],
      "metadata": {
        "colab": {
          "base_uri": "https://localhost:8080/",
          "height": 110
        },
        "id": "5ppRnG670zaO",
        "outputId": "e6d1010a-49d6-4b90-8679-3512f44a2bfb"
      },
      "execution_count": null,
      "outputs": [
        {
          "output_type": "error",
          "ename": "SyntaxError",
          "evalue": "invalid character '，' (U+FF0C) (ipython-input-3912212725.py, line 1)",
          "traceback": [
            "\u001b[0;36m  File \u001b[0;32m\"/tmp/ipython-input-3912212725.py\"\u001b[0;36m, line \u001b[0;32m1\u001b[0m\n\u001b[0;31m    array = {0:\"月曜日は晴れです\"，1:\"火曜日は雨です\"，2:\"水曜日は晴れです\"，3:\"木曜日は晴れです\"，4：\"金曜日は曇りです\"，5:\"土曜日は曇りのち雨です\"，6:“日曜日は雷雨です\"}\u001b[0m\n\u001b[0m                         ^\u001b[0m\n\u001b[0;31mSyntaxError\u001b[0m\u001b[0;31m:\u001b[0m invalid character '，' (U+FF0C)\n"
          ]
        }
      ]
    },
    {
      "cell_type": "code",
      "source": [
        "# リスト（array）の作成\n",
        "array = [\n",
        "    \"月曜日は晴れです\",\n",
        "    \"火曜日は雨です\",\n",
        "    \"水曜日は晴れです\",\n",
        "    \"木曜日は晴れです\",\n",
        "    \"金曜日は曇りです\",\n",
        "    \"土曜日は曇りのち雨です\",\n",
        "    \"日曜日は雷雨です\"\n",
        "]\n",
        "\n",
        "# ディクショナリの作成\n",
        "dictionary = {\n",
        "    \"mon\": \"晴れ\",\n",
        "    \"tue\": \"雨\",\n",
        "    \"wed\": \"晴れ\",\n",
        "    \"thu\": \"晴れ\",\n",
        "    \"fri\": \"曇り\",\n",
        "    \"sat\": \"曇りのち雨\",\n",
        "    \"sun\": \"雷雨\"\n",
        "}\n",
        "\n",
        "# 水曜日の天気予報を取り出して出力\n",
        "print(array[2])          # リストから取り出す\n",
        "print(dictionary[\"wed\"]) # ディクショナリから取り出す\n"
      ],
      "metadata": {
        "colab": {
          "base_uri": "https://localhost:8080/"
        },
        "id": "hI6ziZlw4tRR",
        "outputId": "8f8a01f0-7652-4d0f-e024-32fd4a79a23c"
      },
      "execution_count": null,
      "outputs": [
        {
          "output_type": "stream",
          "name": "stdout",
          "text": [
            "水曜日は晴れです\n",
            "晴れ\n"
          ]
        }
      ]
    },
    {
      "cell_type": "code",
      "source": [
        "# 変数 var を任意の正の整数に設定\n",
        "var = 15\n",
        "\n",
        "# 条件分岐\n",
        "if var % 3 == 0 and var % 5 == 0:\n",
        "    print(\"FizzBuzz\")\n",
        "elif var % 3 == 0:\n",
        "    print(\"Fizz\")\n",
        "elif var % 5 == 0:\n",
        "    print(\"Buzz\")\n",
        "else:\n",
        "    print(var)\n"
      ],
      "metadata": {
        "colab": {
          "base_uri": "https://localhost:8080/"
        },
        "id": "Qc5WMsbfAB6t",
        "outputId": "335fcf9f-dece-4e40-a2a3-40e77b6bd060"
      },
      "execution_count": null,
      "outputs": [
        {
          "output_type": "stream",
          "name": "stdout",
          "text": [
            "FizzBuzz\n"
          ]
        }
      ]
    },
    {
      "cell_type": "code",
      "source": [
        "for i in range(1,11):\n",
        " print(i)"
      ],
      "metadata": {
        "colab": {
          "base_uri": "https://localhost:8080/"
        },
        "id": "x6GZ7UqwuwDi",
        "outputId": "dcbb90a1-ce45-42f4-ab16-6ec6381d77bb"
      },
      "execution_count": null,
      "outputs": [
        {
          "output_type": "stream",
          "name": "stdout",
          "text": [
            "1\n",
            "2\n",
            "3\n",
            "4\n",
            "5\n",
            "6\n",
            "7\n",
            "8\n",
            "9\n",
            "10\n"
          ]
        }
      ]
    },
    {
      "cell_type": "code",
      "source": [
        "for i in range(1,11):\n",
        "   print(i)\n",
        " #ループ変数の値が５であれば、break文で繰り返し処理を強制終了する\n",
        "   if i == 5:\n",
        "     break"
      ],
      "metadata": {
        "colab": {
          "base_uri": "https://localhost:8080/"
        },
        "id": "YF7LRLqsvebs",
        "outputId": "19a48c13-e84f-4731-aa85-fe105f910bfb"
      },
      "execution_count": null,
      "outputs": [
        {
          "output_type": "stream",
          "name": "stdout",
          "text": [
            "1\n",
            "2\n",
            "3\n",
            "4\n",
            "5\n"
          ]
        }
      ]
    },
    {
      "cell_type": "code",
      "source": [
        "import random\n",
        "\n",
        "while True:\n",
        "    num = random.randint(1, 20)\n",
        "    print(num)\n",
        "    if num == 20:\n",
        "        print(\"20が出たので終了します！\")\n",
        "        break\n"
      ],
      "metadata": {
        "colab": {
          "base_uri": "https://localhost:8080/"
        },
        "id": "NccaPqqfxvbm",
        "outputId": "3ce3cda2-f870-4fae-9c93-319fb956088b"
      },
      "execution_count": null,
      "outputs": [
        {
          "metadata": {
            "tags": null
          },
          "name": "stdout",
          "output_type": "stream",
          "text": [
            "18\n",
            "4\n",
            "18\n",
            "18\n",
            "9\n",
            "4\n",
            "5\n",
            "5\n",
            "5\n",
            "13\n",
            "5\n",
            "8\n",
            "18\n",
            "4\n",
            "7\n",
            "8\n",
            "4\n",
            "20\n",
            "20が出たので終了します！\n"
          ]
        }
      ]
    },
    {
      "cell_type": "code",
      "source": [
        "import random\n",
        "\n",
        "num = random.randint(0, 4)  # まず最初にランダム代入\n",
        "\n",
        "while num != 0:\n",
        "    print(num)\n",
        "    num = random.randint(0, 4)  # 繰り返し新しいランダム値を代入\n"
      ],
      "metadata": {
        "id": "-1H9A5BWxvLD",
        "colab": {
          "base_uri": "https://localhost:8080/"
        },
        "outputId": "9eea13c0-0ec2-4f7f-c4b7-96a87a753fdc"
      },
      "execution_count": null,
      "outputs": [
        {
          "output_type": "stream",
          "name": "stdout",
          "text": [
            "4\n",
            "1\n",
            "1\n",
            "2\n",
            "4\n"
          ]
        }
      ]
    },
    {
      "cell_type": "code",
      "source": [
        "import random\n",
        "\n",
        "total = 0  # 合計値を入れる変数（sumは組み込み関数なので別名にした方が安全）\n",
        "\n",
        "while total < 20:\n",
        "    num = random.randint(1, 10)  # 1〜10のランダム整数\n",
        "    print(f\"num = {num}\")  # 今回の乱数を表示\n",
        "\n",
        "    if num % 2 == 0:\n",
        "        continue  # 偶数なら加算せずスキップ\n",
        "\n",
        "    total += num  # 奇数なら合計に加算\n",
        "    print(f\"合計 = {total}\")\n",
        "\n",
        "print(\"合計が20以上になったので終了します！\")\n"
      ],
      "metadata": {
        "colab": {
          "base_uri": "https://localhost:8080/"
        },
        "id": "UZ1yldn25Wi5",
        "outputId": "a02af86b-1dfa-4735-ce95-9bdbec3f4ef2"
      },
      "execution_count": null,
      "outputs": [
        {
          "output_type": "stream",
          "name": "stdout",
          "text": [
            "num = 3\n",
            "合計 = 3\n",
            "num = 9\n",
            "合計 = 12\n",
            "num = 6\n",
            "num = 5\n",
            "合計 = 17\n",
            "num = 10\n",
            "num = 3\n",
            "合計 = 20\n",
            "合計が20以上になったので終了します！\n"
          ]
        }
      ]
    },
    {
      "cell_type": "code",
      "source": [
        "array = [\"水\",\"金\",\"地\",\"火\",\"木\",\"土\",\"天\",\"海\",\"冥\"]\n",
        "\n",
        "# 2周するように range(2) を指定\n",
        "for i in range(2):\n",
        "    for elem in array:\n",
        "        print(elem)\n"
      ],
      "metadata": {
        "colab": {
          "base_uri": "https://localhost:8080/"
        },
        "id": "eRYvLloWMrzl",
        "outputId": "d0b01b99-bf0f-4e94-e6ca-e004ef8a9949"
      },
      "execution_count": 1,
      "outputs": [
        {
          "output_type": "stream",
          "name": "stdout",
          "text": [
            "水\n",
            "金\n",
            "地\n",
            "火\n",
            "木\n",
            "土\n",
            "天\n",
            "海\n",
            "冥\n",
            "水\n",
            "金\n",
            "地\n",
            "火\n",
            "木\n",
            "土\n",
            "天\n",
            "海\n",
            "冥\n"
          ]
        }
      ]
    },
    {
      "cell_type": "code",
      "source": [
        "array = [\"水\",\"金\",\"地\",\"火\",\"木\",\"土\",\"天\",\"海\",\"冥\"]\n",
        "\n",
        "count = 0\n",
        "while count < 2:  # 2周する\n",
        "    index = 0\n",
        "    while index < len(array):\n",
        "        print(array[index])\n",
        "        index += 1\n",
        "    count += 1\n"
      ],
      "metadata": {
        "colab": {
          "base_uri": "https://localhost:8080/"
        },
        "id": "KpJvTkDNM1XD",
        "outputId": "f11b4665-57c8-4799-cc31-c70151e23a59"
      },
      "execution_count": 2,
      "outputs": [
        {
          "output_type": "stream",
          "name": "stdout",
          "text": [
            "水\n",
            "金\n",
            "地\n",
            "火\n",
            "木\n",
            "土\n",
            "天\n",
            "海\n",
            "冥\n",
            "水\n",
            "金\n",
            "地\n",
            "火\n",
            "木\n",
            "土\n",
            "天\n",
            "海\n",
            "冥\n"
          ]
        }
      ]
    },
    {
      "cell_type": "code",
      "source": [
        "#朝の挨拶をする関数\n",
        "def say_good_morning():\n",
        " print(\"おはよ!\")\n",
        " print(\"昨日は眠れた？\")\n",
        " print(\"今日も頑張ろうな！\")\n",
        "\n",
        "#朝の挨拶関数を呼び出す\n",
        "say_good_morning()"
      ],
      "metadata": {
        "colab": {
          "base_uri": "https://localhost:8080/"
        },
        "id": "MLRKiSs-QEgE",
        "outputId": "68e58308-8a91-4e9f-9e72-f1f2e0c24c57"
      },
      "execution_count": 5,
      "outputs": [
        {
          "output_type": "stream",
          "name": "stdout",
          "text": [
            "おはよ!\n",
            "昨日は眠れた？\n",
            "今日も頑張ろうな！\n"
          ]
        }
      ]
    },
    {
      "cell_type": "code",
      "source": [
        "#与えられた引数$priceに送料を加算し、その値を出力する関数を定義する\n",
        "def calculate_total(price):\n",
        " #与えられた引数priceに送料を加算し、変数totalに代入する\n",
        " total=price+500\n",
        "\n",
        " #変数totalの値を出力する\n",
        " print(f\"{total}円\")\n",
        "\n",
        "#関数を呼び出し、引数として購入金額を渡す\n",
        "calculate_total(1200)"
      ],
      "metadata": {
        "colab": {
          "base_uri": "https://localhost:8080/"
        },
        "id": "eBAgwuVrWZc8",
        "outputId": "20076632-6dc1-416a-e90d-c140b5af3235"
      },
      "execution_count": 8,
      "outputs": [
        {
          "output_type": "stream",
          "name": "stdout",
          "text": [
            "1700円\n"
          ]
        }
      ]
    },
    {
      "cell_type": "code",
      "source": [
        "def add_two_arguments(price, shipping_fee):\n",
        "    # 与えられた引数priceと引数shipping_feeを加算し、変数totalに代入する\n",
        "    total = price + shipping_fee\n",
        "\n",
        "    # 変数$totalの値を出力する\n",
        "    print(f\"{total}円\")"
      ],
      "metadata": {
        "id": "KD6_XO1nZJ5p"
      },
      "execution_count": 10,
      "outputs": []
    },
    {
      "cell_type": "code",
      "source": [
        "def add_two_arguments(price, shipping_fee):\n",
        "    # 与えられた引数priceと引数shipping_feeを加算し、変数totalに代入する\n",
        "    total = price + shipping_fee\n",
        "\n",
        "    # 変数$totalの値を出力する\n",
        "    print(f\"{total}円\")\n",
        "\n",
        "# 関数を呼び出し、引数として購入金額と送料を渡す\n",
        "add_two_arguments(1200, 500)"
      ],
      "metadata": {
        "colab": {
          "base_uri": "https://localhost:8080/"
        },
        "id": "usK98Td1ZO79",
        "outputId": "eef3fc24-ba98-42dd-b7cd-51ecaf91196e"
      },
      "execution_count": 11,
      "outputs": [
        {
          "output_type": "stream",
          "name": "stdout",
          "text": [
            "1700円\n"
          ]
        }
      ]
    },
    {
      "cell_type": "code",
      "source": [
        "# ユーザー名を引数にとり、あいさつ文を返す関数\n",
        "def greet_user(user_name: str) -> str:\n",
        "    # 引数が空文字の場合\n",
        "    if user_name == \"\":\n",
        "        return \"こんにちは、ゲストさん！\"\n",
        "    else:\n",
        "        return f\"こんにちは、{user_name}さん！\"\n",
        "\n",
        "\n",
        "# テスト\n",
        "print(greet_user(\"岡迫\"))   # → こんにちは、岡迫さん！\n",
        "print(greet_user(\"\"))       # → こんにちは、ゲストさん！\n"
      ],
      "metadata": {
        "colab": {
          "base_uri": "https://localhost:8080/"
        },
        "id": "h1etnljKZzCN",
        "outputId": "85390e00-2560-4ac0-e449-21df8ea999db"
      },
      "execution_count": 12,
      "outputs": [
        {
          "output_type": "stream",
          "name": "stdout",
          "text": [
            "こんにちは、岡迫さん！\n",
            "こんにちは、ゲストさん！\n"
          ]
        }
      ]
    },
    {
      "cell_type": "code",
      "source": [
        "# 商品購入時の消費税を計算する関数\n",
        "def calculate_total(price: float, tax_rate: float) -> float:\n",
        "    \"\"\"\n",
        "    price: 商品の金額\n",
        "    tax_rate: 消費税率（%）\n",
        "    return: 消費税込みの合計金額\n",
        "    \"\"\"\n",
        "    # 消費税率を計算（例：10% → 0.10）\n",
        "    tax = price * (tax_rate / 100)\n",
        "    total = price + tax\n",
        "    return total\n",
        "\n",
        "\n",
        "# 関数の呼び出し（第1引数: 商品の金額 110, 第2引数: 消費税率 10）\n",
        "result = calculate_total(110, 10)\n",
        "\n",
        "# 計算結果を出力\n",
        "print(f\"消費税込みの金額: {result}\")\n"
      ],
      "metadata": {
        "colab": {
          "base_uri": "https://localhost:8080/"
        },
        "id": "vHq8V2C_cLY8",
        "outputId": "462e5ad1-3ae1-4c03-a2e9-0963994cfa71"
      },
      "execution_count": 13,
      "outputs": [
        {
          "output_type": "stream",
          "name": "stdout",
          "text": [
            "消費税込みの金額: 121.0\n"
          ]
        }
      ]
    },
    {
      "cell_type": "code",
      "source": [
        "def show_user_name():\n",
        "    # ローカル変数を定義する\n",
        "    user_name = \"侍太郎\"\n",
        "\n",
        "    # ローカルスコープの範囲内でローカル変数を使う\n",
        "    print(user_name)\n",
        "\n",
        "show_user_name()"
      ],
      "metadata": {
        "colab": {
          "base_uri": "https://localhost:8080/"
        },
        "id": "5PaJ2mwThu2u",
        "outputId": "47c32c25-e066-4b4c-d98a-44d075c9bc68"
      },
      "execution_count": 14,
      "outputs": [
        {
          "output_type": "stream",
          "name": "stdout",
          "text": [
            "侍太郎\n"
          ]
        }
      ]
    },
    {
      "cell_type": "code",
      "source": [
        "def show_user_name():\n",
        "    # ローカル変数を定義する\n",
        "    user_name = \"侍太郎\"\n",
        "\n",
        "    # ローカルスコープの範囲内でローカル変数を使う\n",
        "    print(user_name)\n",
        "\n",
        "show_user_name()\n",
        "\n",
        "# ローカルスコープの範囲外でローカル変数を使う（エラーが発生する）\n",
        "print(user_name)"
      ],
      "metadata": {
        "colab": {
          "base_uri": "https://localhost:8080/",
          "height": 200
        },
        "id": "jqJkQLGGiLoY",
        "outputId": "4dd0c341-bcf7-40eb-f55f-b6b75a96e898"
      },
      "execution_count": 15,
      "outputs": [
        {
          "output_type": "stream",
          "name": "stdout",
          "text": [
            "侍太郎\n"
          ]
        },
        {
          "output_type": "error",
          "ename": "NameError",
          "evalue": "name 'user_name' is not defined",
          "traceback": [
            "\u001b[0;31m---------------------------------------------------------------------------\u001b[0m",
            "\u001b[0;31mNameError\u001b[0m                                 Traceback (most recent call last)",
            "\u001b[0;32m/tmp/ipython-input-115877878.py\u001b[0m in \u001b[0;36m<cell line: 0>\u001b[0;34m()\u001b[0m\n\u001b[1;32m      9\u001b[0m \u001b[0;34m\u001b[0m\u001b[0m\n\u001b[1;32m     10\u001b[0m \u001b[0;31m# ローカルスコープの範囲外でローカル変数を使う（エラーが発生する）\u001b[0m\u001b[0;34m\u001b[0m\u001b[0;34m\u001b[0m\u001b[0m\n\u001b[0;32m---> 11\u001b[0;31m \u001b[0mprint\u001b[0m\u001b[0;34m(\u001b[0m\u001b[0muser_name\u001b[0m\u001b[0;34m)\u001b[0m\u001b[0;34m\u001b[0m\u001b[0;34m\u001b[0m\u001b[0m\n\u001b[0m",
            "\u001b[0;31mNameError\u001b[0m: name 'user_name' is not defined"
          ]
        }
      ]
    },
    {
      "cell_type": "code",
      "source": [
        "# グローバル変数を定義する\n",
        "user_name = \"侍花子\"\n",
        "\n",
        "def show_user_name():\n",
        "    # ローカル変数を定義する\n",
        "    user_name = \"侍太郎\"\n",
        "\n",
        "    # ローカルスコープの範囲内でローカル変数を使う\n",
        "    print(user_name)\n",
        "\n",
        "show_user_name()\n",
        "\n",
        "# グローバルスコープの範囲内でグローバル変数を使う\n",
        "print(user_name)"
      ],
      "metadata": {
        "colab": {
          "base_uri": "https://localhost:8080/"
        },
        "id": "Dc8qUlqIjMiD",
        "outputId": "d1bf662d-3b82-4cc9-8eea-c714be3c2a32"
      },
      "execution_count": 16,
      "outputs": [
        {
          "output_type": "stream",
          "name": "stdout",
          "text": [
            "侍太郎\n",
            "侍花子\n"
          ]
        }
      ]
    },
    {
      "cell_type": "code",
      "source": [
        "# グローバル変数を定義する\n",
        "user_name = \"侍花子\"\n",
        "\n",
        "def show_user_name():\n",
        "    # ローカル変数を定義する\n",
        "    user_name = \"侍太郎\"\n",
        "    # user_name = \"侍太郎\"\n",
        "\n",
        "    # ローカルスコープの範囲内でローカル変数を使う\n",
        "    # グローバルスコープの範囲外でグローバル変数を使う（エラーが発生しない）\n",
        "    print(user_name)\n",
        "\n",
        "show_user_name()\n",
        "\n",
        "# グローバルスコープの範囲内でグローバル変数を使う\n",
        "print(user_name)"
      ],
      "metadata": {
        "colab": {
          "base_uri": "https://localhost:8080/"
        },
        "id": "Ki_JOX1rjVvL",
        "outputId": "05a6cc2c-79a0-4e48-b4fc-8969699d5178"
      },
      "execution_count": 17,
      "outputs": [
        {
          "output_type": "stream",
          "name": "stdout",
          "text": [
            "侍太郎\n",
            "侍花子\n"
          ]
        }
      ]
    },
    {
      "cell_type": "code",
      "source": [
        "price1 = 100\n",
        "price2 = 200\n",
        "\n",
        "def total():\n",
        "    tax = 1.1\n",
        "    return (price1 + price2) * tax\n",
        "\n",
        "print(total())\n"
      ],
      "metadata": {
        "colab": {
          "base_uri": "https://localhost:8080/"
        },
        "id": "jZl2uPhxkWR7",
        "outputId": "0c852626-7850-4df8-b6b1-29cd76edf3ce"
      },
      "execution_count": 18,
      "outputs": [
        {
          "output_type": "stream",
          "name": "stdout",
          "text": [
            "330.0\n"
          ]
        }
      ]
    },
    {
      "cell_type": "code",
      "source": [
        "class Product:\n",
        "    def __init__(self):\n",
        "        # 属性を定義する\n",
        "        self.name = \"\"\n",
        "\n",
        "shampoo = Product()\n",
        "\n",
        "# 属性にアクセスし、値を代入する\n",
        "shampoo.name = \"シャンプー\"\n",
        "\n",
        "# 属性にアクセスし、値を出力する\n",
        "print(shampoo.name)"
      ],
      "metadata": {
        "colab": {
          "base_uri": "https://localhost:8080/"
        },
        "id": "nl3cr6EqoI3v",
        "outputId": "ebb6175d-e669-4012-e453-69691d4af08c"
      },
      "execution_count": 19,
      "outputs": [
        {
          "output_type": "stream",
          "name": "stdout",
          "text": [
            "シャンプー\n"
          ]
        }
      ]
    },
    {
      "cell_type": "code",
      "source": [
        "class Product:\n",
        "    def __init__(self):\n",
        "        self.name = \"\"\n",
        "\n",
        "    # メソッドを定義する\n",
        "    def set_name(self, name):\n",
        "        self.name = name\n",
        "\n",
        "shampoo = Product()\n",
        "\n",
        "# メソッドにアクセスして実行する\n",
        "shampoo.set_name(\"シャンプー\")"
      ],
      "metadata": {
        "id": "yOZCzdWZoVRr"
      },
      "execution_count": 20,
      "outputs": []
    },
    {
      "cell_type": "code",
      "source": [
        "class Product:\n",
        "    def __init__(self):\n",
        "        self.name = \"\"\n",
        "\n",
        "    # メソッドを定義する\n",
        "    def set_name(self, name):\n",
        "        self.name = name\n",
        "\n",
        "    def show_name(self):\n",
        "        print(self.name)\n",
        "\n",
        "# インスタンス化する\n",
        "coffee = Product()\n",
        "\n",
        "# メソッドにアクセスして実行する\n",
        "coffee.set_name(\"コーヒー\")\n",
        "coffee.show_name()"
      ],
      "metadata": {
        "colab": {
          "base_uri": "https://localhost:8080/"
        },
        "id": "EiOLWoAkoYfg",
        "outputId": "5b414897-077c-4d85-c9d1-57b10ba9ff62"
      },
      "execution_count": 21,
      "outputs": [
        {
          "output_type": "stream",
          "name": "stdout",
          "text": [
            "コーヒー\n"
          ]
        }
      ]
    },
    {
      "cell_type": "code",
      "source": [
        "class Product:\n",
        "    def __init__(self):\n",
        "        # 属性を定義する\n",
        "        self.name = \"\""
      ],
      "metadata": {
        "id": "z_fnrFC6o3S5"
      },
      "execution_count": 22,
      "outputs": []
    },
    {
      "cell_type": "code",
      "source": [
        "class User:\n",
        "    # コンストラクタを定義する\n",
        "    def __init__(self, name, age, gender):\n",
        "        self.name = name\n",
        "        self.age = age\n",
        "        self.gender = gender\n",
        "\n",
        "# インスタンス化する\n",
        "user = User(\"侍太郎\", 36, \"男性\")\n",
        "\n",
        "# 属性にアクセスし、値を出力する\n",
        "print(user.name)\n",
        "print(user.age)\n",
        "print(user.gender)"
      ],
      "metadata": {
        "colab": {
          "base_uri": "https://localhost:8080/"
        },
        "id": "vg6zqLUGpCGr",
        "outputId": "31bfef3e-bd4c-4781-8652-8859c5e25ede"
      },
      "execution_count": 23,
      "outputs": [
        {
          "output_type": "stream",
          "name": "stdout",
          "text": [
            "侍太郎\n",
            "36\n",
            "男性\n"
          ]
        }
      ]
    },
    {
      "cell_type": "code",
      "source": [
        "from datetime import date\n",
        "\n",
        "class Event:\n",
        "    def __init__(self, name: str, date_: date, location: str):\n",
        "        # 属性を初期化\n",
        "        self.name = name\n",
        "        self.date = date_\n",
        "        self.location = location\n",
        "\n",
        "    def days_until(self) -> int:\n",
        "        \"\"\"開催日までの日数を返す\"\"\"\n",
        "        today = date.today()\n",
        "        delta = self.date - today\n",
        "        return delta.days\n",
        "\n",
        "\n",
        "# インスタンス作成\n",
        "event = Event(\n",
        "    \"プログラミング初心者向けセミナー\",\n",
        "    date(2025, 10, 1),\n",
        "    \"東京国際フォーラム\"\n",
        ")\n",
        "\n",
        "# 各属性にアクセスして出力\n",
        "print(\"イベント名:\", event.name)\n",
        "print(\"開催日:\", event.date)\n",
        "print(\"開催場所:\", event.location)\n",
        "\n",
        "# 開催日までの日数を出力\n",
        "print(\"開催日までの日数:\", event.days_until(), \"日\")\n"
      ],
      "metadata": {
        "colab": {
          "base_uri": "https://localhost:8080/"
        },
        "id": "t2-YrcwDpfg1",
        "outputId": "adbfa27c-4c68-4216-d5e3-49626d4a0ce2"
      },
      "execution_count": 24,
      "outputs": [
        {
          "output_type": "stream",
          "name": "stdout",
          "text": [
            "イベント名: プログラミング初心者向けセミナー\n",
            "開催日: 2025-10-01\n",
            "開催場所: 東京国際フォーラム\n",
            "開催日までの日数: 38 日\n"
          ]
        }
      ]
    },
    {
      "cell_type": "code",
      "source": [
        "class Human:\n",
        "    def __init__(self, name: str, age: int):\n",
        "        # 属性を初期化\n",
        "        self.name = name\n",
        "        self.age = age\n",
        "\n",
        "    def printinfo(self):\n",
        "        # 名前と年齢を出力\n",
        "        print(f\"名前: {self.name}, 年齢: {self.age}\")\n",
        "\n",
        "\n",
        "# インスタンスを作成して変数に代入\n",
        "person = Human(\"侍太郎\", 29)\n",
        "\n",
        "# メソッド呼び出し\n",
        "person.printinfo()\n"
      ],
      "metadata": {
        "id": "jr7Et-UaqIat"
      },
      "execution_count": null,
      "outputs": []
    }
  ]
}